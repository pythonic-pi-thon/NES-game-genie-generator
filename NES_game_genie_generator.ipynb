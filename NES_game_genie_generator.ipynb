{
 "cells": [
  {
   "cell_type": "code",
   "execution_count": 4,
   "metadata": {},
   "outputs": [
    {
     "name": "stdout",
     "output_type": "stream",
     "text": [
      "How many codes would you like to generate? 10\n",
      "PIEOKG\n",
      "TVOPYE\n",
      "GKEANN\n",
      "VKVOAE\n",
      "XEEOPO\n",
      "ZAOIIV\n",
      "ZSELTG\n",
      "ISEOKK\n",
      "GXEONE\n",
      "XPEOUU\n"
     ]
    }
   ],
   "source": [
    "#Please note this program requires gamegenie.py (reused under MIT license) as a\n",
    "#dependency. Please esure it is present in python's root directory. \n",
    "#If not included with this script, you can download it here: \n",
    "#https://github.com/Jarhmander/gamegenie\n",
    "#just remember to change the \"xrange\" in line 16 to \"range\" if you wish for it \n",
    "#to work in Python 3.\n",
    "import gamegenie as gg\n",
    "import random\n",
    "list_codes = []\n",
    "\n",
    "#opens and reads game genie codes from \"source.txt\", then puts them in a list\n",
    "f = open(\"source.txt\")\n",
    "for line in f:\n",
    "    list_codes.append(line.strip())\n",
    "f.close()\n",
    "\n",
    "#saves the length of the (input) code list as a variable\n",
    "length = len(list_codes) - 1\n",
    "\n",
    "#generates the number of codes specified by the user\n",
    "x = 0\n",
    "number_of_codes = int(input(\"How many codes would you like to generate? \"))\n",
    "while x < number_of_codes: \n",
    "    \n",
    "    #takes two random codes from the list and combines the first 3 letters of one with the last 3 of another\n",
    "    code = list_codes[random.randint(0, length)][:3] + list_codes[random.randint(0, length)][3:]\n",
    "    \n",
    "    #deciphers the code into an address and value\n",
    "    a = gg.decode(code)\n",
    "    \n",
    "    #replaces the value with a random number between 1 and 255, then re-encodes\n",
    "    print(gg.encode(a[\"address\"], random.randint(0, 255)))\n",
    "    \n",
    "    x+= 1"
   ]
  },
  {
   "cell_type": "code",
   "execution_count": null,
   "metadata": {},
   "outputs": [],
   "source": []
  }
 ],
 "metadata": {
  "kernelspec": {
   "display_name": "Python 3 (ipykernel)",
   "language": "python",
   "name": "python3"
  },
  "language_info": {
   "codemirror_mode": {
    "name": "ipython",
    "version": 3
   },
   "file_extension": ".py",
   "mimetype": "text/x-python",
   "name": "python",
   "nbconvert_exporter": "python",
   "pygments_lexer": "ipython3",
   "version": "3.9.7"
  }
 },
 "nbformat": 4,
 "nbformat_minor": 2
}
